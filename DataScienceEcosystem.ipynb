{
 "cells": [
  {
   "cell_type": "markdown",
   "id": "58c313b6-0855-4e97-a51d-c2886ee2843f",
   "metadata": {},
   "source": [
    "# Data Science Tools and Ecosystem"
   ]
  },
  {
   "cell_type": "markdown",
   "id": "557e8fc0-cd85-41c4-909b-5c1dd6b026d4",
   "metadata": {},
   "source": [
    "In this notebook, Data Science Tools and Ecosystem are summarized."
   ]
  },
  {
   "cell_type": "markdown",
   "id": "51fa2b1e-67cb-40ea-bf27-5d7b7eabc2ce",
   "metadata": {},
   "source": [
    "**Objectives:**\n",
    "- Some of the popular languages that Data Scientists\n",
    "- a few examples of evaluating arithmetic expressions in Python\n",
    "- Data Science Tools"
   ]
  },
  {
   "cell_type": "markdown",
   "id": "0434cd17-27fb-45f2-8837-2e83a135f559",
   "metadata": {},
   "source": [
    "Some of the popular languages that Data Scientists use are:"
   ]
  },
  {
   "cell_type": "markdown",
   "id": "d6672cd6-a839-41df-8bba-da95f797d805",
   "metadata": {
    "tags": []
   },
   "source": [
    "ordered list:\n",
    "1. python\n",
    "2. R\n",
    "3. SQL\n"
   ]
  },
  {
   "cell_type": "markdown",
   "id": "4cbbb434-b98c-483a-9c76-7dbbf0f62989",
   "metadata": {
    "tags": []
   },
   "source": [
    "|python|R|SQL|\n",
    "| ------ | ------ | ------ | \n",
    "|jupyter notebook|Rstudio|SQL workbench|"
   ]
  },
  {
   "cell_type": "markdown",
   "id": "8c9e7cc7-f618-4099-b641-c31d86a2ea30",
   "metadata": {},
   "source": [
    "Below are a few examples of evaluating arithmetic expressions in Python"
   ]
  },
  {
   "cell_type": "markdown",
   "id": "4a949a55-97ba-41e1-80e2-3f44b65f74f6",
   "metadata": {},
   "source": [
    "This a simple arithmetic expression to mutiply then add integers"
   ]
  },
  {
   "cell_type": "code",
   "execution_count": 14,
   "id": "f604ffd1-2589-44a1-9482-100b54cdbc72",
   "metadata": {
    "tags": []
   },
   "outputs": [
    {
     "data": {
      "text/plain": [
       "17"
      ]
     },
     "execution_count": 14,
     "metadata": {},
     "output_type": "execute_result"
    }
   ],
   "source": [
    "(3*4)+5"
   ]
  },
  {
   "cell_type": "markdown",
   "id": "be044bba-5444-42ec-8b42-0d82e7ee2041",
   "metadata": {
    "tags": []
   },
   "source": [
    "This will convert 200 minutes to hours by diving by 60"
   ]
  },
  {
   "cell_type": "code",
   "execution_count": 16,
   "id": "5e928066-ebdd-4584-b78f-a99f84459974",
   "metadata": {
    "tags": []
   },
   "outputs": [
    {
     "data": {
      "text/plain": [
       "3.3333333333333335"
      ]
     },
     "execution_count": 16,
     "metadata": {},
     "output_type": "execute_result"
    }
   ],
   "source": [
    "minute=200\n",
    "hour=minute/60\n",
    "hour"
   ]
  },
  {
   "cell_type": "markdown",
   "id": "37998a24-6dec-46f0-8d73-d5a4db619988",
   "metadata": {
    "tags": []
   },
   "source": [
    "## Author\n",
    "Nguyen Hong Phuc"
   ]
  },
  {
   "cell_type": "code",
   "execution_count": null,
   "id": "c57f37f0-ece5-4763-ae9c-dd6cf133475e",
   "metadata": {},
   "outputs": [],
   "source": []
  }
 ],
 "metadata": {
  "kernelspec": {
   "display_name": "Python 3 (ipykernel)",
   "language": "python",
   "name": "python3"
  },
  "language_info": {
   "codemirror_mode": {
    "name": "ipython",
    "version": 3
   },
   "file_extension": ".py",
   "mimetype": "text/x-python",
   "name": "python",
   "nbconvert_exporter": "python",
   "pygments_lexer": "ipython3",
   "version": "3.10.2"
  }
 },
 "nbformat": 4,
 "nbformat_minor": 5
}
